{
 "cells": [
  {
   "cell_type": "code",
   "execution_count": 3,
   "metadata": {},
   "outputs": [
    {
     "name": "stdout",
     "output_type": "stream",
     "text": [
      "Response Code: 0 | Event Code: 0 | Info: host '203.66.91.161:80', IP 203.66.91.161:80 (host 1 of 1) (host connection attempt 1 of 1) (total connection attempt 1 of 1) | Event: Session up\n",
      "Ca Initial Done.\n",
      "OrderState.Order {'operation': {'op_type': 'NEW', 'op_code': '00', 'op_msg': ''}, 'order': {'id': '28ed0a7a', 'seqno': '270229', 'ordno': 'I2006', 'action': 'Buy', 'price': 11.5, 'quantity': 2, 'order_cond': 'Cash'}, 'status': {'id': '28ed0a7a', 'exchange_ts': 1583893802, 'modified_price': 0, 'cancel_quantity': 0}, 'contract': {'security_type': 'STK', 'exchange': 'TSE', 'code': '2890', 'symbol': '', 'name': '', 'currency': 'TWD'}}\n"
     ]
    }
   ],
   "source": [
    "import shioaji as sj\n",
    "\n",
    "api = sj.Shioaji()\n",
    "accounts = api.login(\"YOUR_PERSON_ID\", \"YOUR_PASSWORD\", contracts_timeout=10000)\n",
    "api.activate_ca(\n",
    "    ca_path=\"/c/your/ca/path/Sinopac.pfx\",\n",
    "    ca_passwd=\"YOUR_CA_PASSWORD\",\n",
    "    person_id=\"The Ca belong to which person_id\",\n",
    ")\n",
    "\n",
    "contract = api.Contracts.Stocks.TSE.TSE2890\n",
    "order = api.Order(price=11.5,\n",
    "                  quantity=2,\n",
    "                  action=\"Buy\",\n",
    "                  price_type=\"LMT\",\n",
    "                  order_type=\"ROD\",\n",
    "                  account=api.stock_account\n",
    "                  )\n",
    "trade = api.place_order(contract, order)"
   ]
  },
  {
   "cell_type": "code",
   "execution_count": null,
   "metadata": {},
   "outputs": [],
   "source": [
    "contract = api.Contracts.Stocks.TSE.TSE2890\n",
    "order = api.Order(price=11.5,\n",
    "                  quantity=2,\n",
    "                  action=\"Buy\",\n",
    "                  price_type=\"LMT\",\n",
    "                  order_type=\"ROD\",\n",
    "                  account=api.stock_account\n",
    "                  )\n",
    "trade = api.place_order(contract, order)"
   ]
  },
  {
   "cell_type": "code",
   "execution_count": 6,
   "metadata": {},
   "outputs": [
    {
     "name": "stdout",
     "output_type": "stream",
     "text": [
      "OrderState.Order {'operation': {'op_type': 'CANCEL', 'op_code': '00', 'op_msg': ''}, 'order': {'id': '28ed0a7a', 'seqno': '270229', 'ordno': 'I2006', 'action': 'Buy', 'price': 11.5, 'quantity': 2, 'order_cond': 'Cash'}, 'status': {'id': '28ed0a7a', 'exchange_ts': 1583893809, 'modified_price': 0, 'cancel_quantity': 1}, 'contract': {'security_type': 'STK', 'exchange': 'TSE', 'code': '2890', 'symbol': '', 'name': '', 'currency': 'TWD'}}\n"
     ]
    }
   ],
   "source": [
    "api.update_status(api.stock_account)\n",
    "trade = api.cancel_order(trade)"
   ]
  },
  {
   "cell_type": "code",
   "execution_count": 7,
   "metadata": {},
   "outputs": [
    {
     "data": {
      "text/plain": [
       "Trade(contract=Stock(exchange=<Exchange.TSE: 'TSE'>, code='2890', symbol='TSE2890', name='永豐金', category='17', limit_up=13.75, limit_down=11.25, update_date='2020/03/11', day_trade=<DayTrade.OnlyBuy: 'OnlyBuy'>), order=Order(action=<Action.Buy: 'Buy'>, price=11.5, quantity=2, id='28ed0a7a', seqno='270229', ordno='I2006', account=Account(account_type=<AccountType.Stock: 'S'>, person_id=SecretStr('**********'), broker_id=SecretStr('**********'), account_id=SecretStr('**********'), signed=True, username=SecretStr('')), price_type=<StockPriceType.LMT: 'LMT'>, order_type=<FuturesOrderType.ROD: 'ROD'>), status=OrderStatus(id='28ed0a7a', status=<Status.Submitted: 'Submitted'>, status_code='00', order_datetime=datetime.datetime(2020, 3, 11, 10, 30, 2), modified_price=11.5, cancel_quantity=1, deals=[]))"
      ]
     },
     "execution_count": 7,
     "metadata": {},
     "output_type": "execute_result"
    }
   ],
   "source": [
    "trade"
   ]
  },
  {
   "cell_type": "code",
   "execution_count": 4,
   "metadata": {},
   "outputs": [
    {
     "name": "stdout",
     "output_type": "stream",
     "text": [
      "OrderState.Order {'operation': {'op_type': 'UPDATE', 'op_code': '00', 'op_msg': ''}, 'order': {'id': '28ed0a7a', 'seqno': '270229', 'ordno': 'I2006', 'action': 'Buy', 'price': 11.5, 'quantity': 2, 'order_cond': 'Cash'}, 'status': {'id': '28ed0a7a', 'exchange_ts': 1583893806, 'modified_price': 0, 'cancel_quantity': 1}, 'contract': {'security_type': 'STK', 'exchange': 'TSE', 'code': '2890', 'symbol': '', 'name': '', 'currency': 'TWD'}}\n"
     ]
    }
   ],
   "source": [
    "api.update_status(api.stock_account)\n",
    "trade = api.update_order(trade, price=11.5, qty=1)"
   ]
  },
  {
   "cell_type": "code",
   "execution_count": 5,
   "metadata": {},
   "outputs": [
    {
     "data": {
      "text/plain": [
       "Trade(contract=Stock(exchange=<Exchange.TSE: 'TSE'>, code='2890', symbol='TSE2890', name='永豐金', category='17', limit_up=13.75, limit_down=11.25, update_date='2020/03/11', day_trade=<DayTrade.OnlyBuy: 'OnlyBuy'>), order=Order(action=<Action.Buy: 'Buy'>, price=11.5, quantity=2, id='28ed0a7a', seqno='270229', ordno='I2006', account=Account(account_type=<AccountType.Stock: 'S'>, person_id=SecretStr('**********'), broker_id=SecretStr('**********'), account_id=SecretStr('**********'), signed=True, username=SecretStr('')), price_type=<StockPriceType.LMT: 'LMT'>, order_type=<FuturesOrderType.ROD: 'ROD'>), status=OrderStatus(id='28ed0a7a', status=<Status.Submitted: 'Submitted'>, status_code='00', order_datetime=datetime.datetime(2020, 3, 11, 10, 30, 2), modified_price=11.5, deals=[]))"
      ]
     },
     "execution_count": 5,
     "metadata": {},
     "output_type": "execute_result"
    }
   ],
   "source": [
    "trade"
   ]
  }
 ],
 "metadata": {
  "kernelspec": {
   "display_name": "Python 3",
   "language": "python",
   "name": "python3"
  },
  "language_info": {
   "codemirror_mode": {
    "name": "ipython",
    "version": 3
   },
   "file_extension": ".py",
   "mimetype": "text/x-python",
   "name": "python",
   "nbconvert_exporter": "python",
   "pygments_lexer": "ipython3",
   "version": "3.7.0"
  }
 },
 "nbformat": 4,
 "nbformat_minor": 4
}